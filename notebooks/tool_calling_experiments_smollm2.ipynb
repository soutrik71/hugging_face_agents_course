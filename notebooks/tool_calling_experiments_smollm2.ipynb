{
 "cells": [
  {
   "cell_type": "markdown",
   "id": "9c247d0f",
   "metadata": {},
   "source": [
    "##### Manual TOOL creation script"
   ]
  },
  {
   "cell_type": "code",
   "execution_count": null,
   "id": "708a44a3",
   "metadata": {},
   "outputs": [],
   "source": [
    "from typing import Callable\n",
    "\n",
    "\n",
    "class Tool:\n",
    "    \"\"\"\n",
    "    A class representing a reusable piece of code (Tool).\n",
    "\n",
    "    Attributes:\n",
    "        name (str): Name of the tool.\n",
    "        description (str): A textual description of what the tool does.\n",
    "        func (callable): The function this tool wraps.\n",
    "        arguments (list): A list of argument.\n",
    "        outputs (str or list): The return type(s) of the wrapped function.\n",
    "    \"\"\"\n",
    "\n",
    "    def __init__(\n",
    "        self, name: str, description: str, func: Callable, arguments: list, outputs: str\n",
    "    ):\n",
    "        self.name = name\n",
    "        self.description = description\n",
    "        self.func = func\n",
    "        self.arguments = arguments\n",
    "        self.outputs = outputs\n",
    "\n",
    "    def to_string(self) -> str:\n",
    "        \"\"\"\n",
    "        Return a string representation of the tool,\n",
    "        including its name, description, arguments, and outputs.\n",
    "        \"\"\"\n",
    "        args_str = \", \".join(\n",
    "            [f\"{arg_name}: {arg_type}\" for arg_name, arg_type in self.arguments]\n",
    "        )\n",
    "\n",
    "        return (\n",
    "            f\"Tool Name: {self.name},\"\n",
    "            f\" Description: {self.description},\"\n",
    "            f\" Arguments: {args_str},\"\n",
    "            f\" Outputs: {self.outputs}\"\n",
    "        )\n",
    "\n",
    "    def __call__(self, *args, **kwargs):\n",
    "        \"\"\"\n",
    "        Invoke the underlying function (callable) with provided arguments.\n",
    "        \"\"\"\n",
    "        return self.func(*args, **kwargs)"
   ]
  },
  {
   "cell_type": "code",
   "execution_count": null,
   "id": "63adb23a",
   "metadata": {},
   "outputs": [],
   "source": [
    "def calculator(a: int, b: int) -> int:\n",
    "    \"\"\"Multiply two integers.\"\"\"\n",
    "    return a * b\n",
    "\n",
    "\n",
    "# Example usage\n",
    "calculator_tool = Tool(\n",
    "    name=\"Calculator\",\n",
    "    description=\"A simple calculator that multiplies two integers.\",\n",
    "    func=calculator,\n",
    "    arguments=[(\"a\", \"int\"), (\"b\", \"int\")],\n",
    "    outputs=\"int\",\n",
    ")\n",
    "print(calculator_tool.to_string())"
   ]
  },
  {
   "cell_type": "code",
   "execution_count": null,
   "id": "f765727d",
   "metadata": {},
   "outputs": [],
   "source": [
    "# decorator to create a Tool instance from a function\n",
    "\n",
    "import inspect\n",
    "\n",
    "\n",
    "def tool(func):\n",
    "    \"\"\"\n",
    "    A decorator that creates a Tool instance from the given function.\n",
    "    \"\"\"\n",
    "    # Get the function signature\n",
    "    signature = inspect.signature(func)\n",
    "\n",
    "    # Extract (param_name, param_annotation) pairs for inputs\n",
    "    arguments = []\n",
    "    for param in signature.parameters.values():\n",
    "        annotation_name = (\n",
    "            param.annotation.__name__\n",
    "            if hasattr(param.annotation, \"__name__\")\n",
    "            else str(param.annotation)\n",
    "        )\n",
    "        arguments.append((param.name, annotation_name))\n",
    "\n",
    "    # Determine the return annotation\n",
    "    return_annotation = signature.return_annotation\n",
    "    if return_annotation is inspect._empty:\n",
    "        outputs = \"No return annotation\"\n",
    "    else:\n",
    "        outputs = (\n",
    "            return_annotation.__name__\n",
    "            if hasattr(return_annotation, \"__name__\")\n",
    "            else str(return_annotation)\n",
    "        )\n",
    "\n",
    "    # Use the function's docstring as the description (default if None)\n",
    "    description = func.__doc__ or \"No description provided.\"\n",
    "\n",
    "    # The function name becomes the Tool name\n",
    "    name = func.__name__\n",
    "\n",
    "    # Return a new Tool instance\n",
    "    return Tool(\n",
    "        name=name,\n",
    "        description=description,\n",
    "        func=func,\n",
    "        arguments=arguments,\n",
    "        outputs=outputs,\n",
    "    )"
   ]
  },
  {
   "cell_type": "code",
   "execution_count": null,
   "id": "ff1a4cdb",
   "metadata": {},
   "outputs": [],
   "source": [
    "@tool\n",
    "def calculator(a: int, b: int) -> int:\n",
    "    \"\"\"Multiply two integers.\"\"\"\n",
    "    return a * b\n",
    "\n",
    "\n",
    "print(calculator.to_string())"
   ]
  },
  {
   "cell_type": "markdown",
   "id": "b593ad7a",
   "metadata": {},
   "source": [
    "#### **Tool Calling With HuggingFaceTB/SmolLM2-1.7B-Instruct**\n",
    "Refer to : https://huggingface.co/HuggingFaceTB/SmolLM2-1.7B-Instruct/blob/main/instructions_function_calling.md"
   ]
  },
  {
   "cell_type": "code",
   "execution_count": 1,
   "id": "70175b75",
   "metadata": {},
   "outputs": [],
   "source": [
    "import json\n",
    "import re\n",
    "from typing import Optional\n",
    "\n",
    "from jinja2 import Template\n",
    "import torch\n",
    "from transformers import AutoModelForCausalLM, AutoTokenizer\n",
    "from transformers.utils import get_json_schema\n",
    "from datetime import datetime\n",
    "import random"
   ]
  },
  {
   "cell_type": "markdown",
   "id": "02ebce3e",
   "metadata": {},
   "source": [
    "##### Basic Tools"
   ]
  },
  {
   "cell_type": "code",
   "execution_count": 22,
   "id": "b64a17a1",
   "metadata": {},
   "outputs": [],
   "source": [
    "def get_current_time() -> str:\n",
    "    \"\"\"Returns the current time in 24-hour format.\n",
    "    This function uses the datetime module to get the current time and formats it\n",
    "    in HH:MM:SS format. The function does not take any arguments and returns a string\n",
    "    representing the current time.\n",
    "    The function uses the strftime() method to format the time.\n",
    "    Args:\n",
    "        None\n",
    "\n",
    "    Returns:\n",
    "        str: Current time in HH:MM:SS format.\n",
    "    \"\"\"\n",
    "    return datetime.now().strftime(\"%H:%M:%S\")\n",
    "\n",
    "\n",
    "def get_random_number_between(min: int, max: int) -> int:\n",
    "    \"\"\"\n",
    "    Gets a random number between min and max.\n",
    "    This function uses the random.randint() method to generate a random integer\n",
    "    between the specified minimum and maximum values (inclusive).\n",
    "    The function takes two arguments: min and max, which define the range of the random number.\n",
    "    \n",
    "    Args:\n",
    "        min: The minimum number.\n",
    "        max: The maximum number.\n",
    "\n",
    "    Returns:\n",
    "        A random number between min and max.\n",
    "    \"\"\"\n",
    "    return random.randint(min, max)\n",
    "\n",
    "\n",
    "def get_number_to_ascii(number: int) -> str:\n",
    "    \"\"\"\n",
    "    Converts a number to its ASCII representation using chr().\n",
    "    This function takes an integer and returns the corresponding ASCII character.\n",
    "    The function uses the built-in chr() function to convert the number to its ASCII character.\n",
    "\n",
    "    Args:\n",
    "        number: The number to convert.\n",
    "\n",
    "    Returns:\n",
    "        The ASCII representation of the number.\n",
    "    \"\"\"\n",
    "    return chr(number)"
   ]
  },
  {
   "cell_type": "markdown",
   "id": "2033d475",
   "metadata": {},
   "source": [
    "##### System prompt using jinja2 template #####"
   ]
  },
  {
   "cell_type": "code",
   "execution_count": 3,
   "id": "9b4c65ba",
   "metadata": {},
   "outputs": [],
   "source": [
    "basic_prompt = \"\"\"\n",
    "You are an expert in composing functions. You are given a question and a set of possible functions. \n",
    "Based on the question, you will need to make one or more function/tool calls to achieve the purpose. \n",
    "If none of the functions can be used, point it out and refuse to answer. \n",
    "If the given question lacks the parameters required by the function, also point it out.\n",
    "\n",
    "You have access to the following tools:\n",
    "<tools>{{ tools }}</tools>\n",
    "\n",
    "The output MUST strictly adhere to the following format, and NO other text MUST be included.\n",
    "The example format is as follows. Please make sure the parameter type is correct. If no function call is needed, please make the tool calls an empty list '[]'.\n",
    "<tool_call>[\n",
    "{\"name\": \"func_name1\", \"arguments\": {\"argument1\": \"value1\", \"argument2\": \"value2\"}},\n",
    "{\"name\": \"func_name2\", \"arguments\": {\"argument1\": \"value1\", \"argument2\": \"value2\"}}\n",
    "\n",
    "...... (multiple other function calls can be included here)\n",
    "]</tool_call>\n",
    "\"\"\"\n",
    "\n",
    "system_prompt = Template(basic_prompt)"
   ]
  },
  {
   "cell_type": "markdown",
   "id": "a0e3f174",
   "metadata": {},
   "source": [
    "##### Next a function which takes  user query and list of tools and return the messages in chat format and also and model output parsing function\n"
   ]
  },
  {
   "cell_type": "code",
   "execution_count": 4,
   "id": "4e0ca2e7",
   "metadata": {},
   "outputs": [],
   "source": [
    "def prepare_messages(\n",
    "    query: str,\n",
    "    tools: Optional[dict[str, any]] = None,\n",
    "    history: Optional[list[dict[str, str]]] = None,\n",
    ") -> list[dict[str, str]]:\n",
    "    \"\"\"Prepare the system and user messages for the given query and tools.\n",
    "\n",
    "    Args:\n",
    "        query: The query to be answered.\n",
    "        tools: The tools available to the user. Defaults to None, in which case if a\n",
    "            list without content will be passed to the model.\n",
    "        history: Exchange of messages, including the system_prompt from\n",
    "            the first query. Defaults to None, the first message in a conversation.\n",
    "    \"\"\"\n",
    "    if tools is None:\n",
    "        tools = []\n",
    "    if history:\n",
    "        messages = history.copy()\n",
    "        messages.append(\n",
    "            {\"role\": \"user\", \"content\": query}\n",
    "        )  # append the new query to the history which is a list of dicts\n",
    "    else:\n",
    "        messages = [\n",
    "            {\n",
    "                \"role\": \"system\",\n",
    "                \"content\": system_prompt.render(tools=json.dumps(tools)),\n",
    "            },\n",
    "            {\"role\": \"user\", \"content\": query},\n",
    "        ]\n",
    "    return messages"
   ]
  },
  {
   "cell_type": "code",
   "execution_count": 5,
   "id": "74f1d08c",
   "metadata": {},
   "outputs": [],
   "source": [
    "def parse_response(text: str) -> str | dict[str, any]:\n",
    "    \"\"\"Parses a response from the model, returning either the\n",
    "    parsed list with the tool calls parsed, or the\n",
    "    model thought or response if couldn't generate one.\n",
    "\n",
    "    Args:\n",
    "        text: Response from the model.\n",
    "    \"\"\"\n",
    "    pattern = r\"<tool_call>(.*?)</tool_call>\"\n",
    "    matches = re.findall(pattern, text, re.DOTALL)\n",
    "    if matches:\n",
    "        return json.loads(matches[0])\n",
    "    return text"
   ]
  },
  {
   "cell_type": "markdown",
   "id": "797ff968",
   "metadata": {},
   "source": [
    "##### Setting the model and tokenizer"
   ]
  },
  {
   "cell_type": "code",
   "execution_count": 6,
   "id": "3d5790cf",
   "metadata": {},
   "outputs": [
    {
     "name": "stderr",
     "output_type": "stream",
     "text": [
      "/anaconda/envs/unstructured_seed_env/lib/python3.10/site-packages/torch/cuda/__init__.py:734: UserWarning: Can't initialize NVML\n",
      "  warnings.warn(\"Can't initialize NVML\")\n"
     ]
    }
   ],
   "source": [
    "model_name_smollm = \"HuggingFaceTB/SmolLM2-1.7B-Instruct\"\n",
    "model = AutoModelForCausalLM.from_pretrained(\n",
    "    model_name_smollm, device_map=\"auto\", torch_dtype=\"auto\", trust_remote_code=True\n",
    ")\n",
    "tokenizer = AutoTokenizer.from_pretrained(model_name_smollm)"
   ]
  },
  {
   "cell_type": "markdown",
   "id": "ed2f1df3",
   "metadata": {},
   "source": [
    "##### Next steps:\n",
    "1. Prepare the input message to the model including the query and the tools\n",
    "2. Pass the message conversation list to the model\n",
    "3. Get the model response and parse it to get the function calls\n",
    "4. Call the functions with the arguments provided by the model"
   ]
  },
  {
   "cell_type": "code",
   "execution_count": 7,
   "id": "5890abb2",
   "metadata": {},
   "outputs": [],
   "source": [
    "tool_list = [\n",
    "    get_json_schema(get_random_number_between),\n",
    "    get_json_schema(get_current_time),\n",
    "    get_json_schema(get_number_to_ascii),\n",
    "]"
   ]
  },
  {
   "cell_type": "code",
   "execution_count": 8,
   "id": "f21c389c",
   "metadata": {},
   "outputs": [],
   "source": [
    "# del tools\n",
    "# import gc\n",
    "# gc.collect()\n",
    "# torch.cuda.empty_cache()"
   ]
  },
  {
   "cell_type": "code",
   "execution_count": 9,
   "id": "ff4bf756",
   "metadata": {},
   "outputs": [],
   "source": [
    "tool_map = {\n",
    "    \"get_random_number_between\": get_random_number_between,\n",
    "    \"get_current_time\": get_current_time,\n",
    "    \"get_number_to_ascii\": get_number_to_ascii,\n",
    "}"
   ]
  },
  {
   "cell_type": "code",
   "execution_count": 10,
   "id": "2da34677",
   "metadata": {},
   "outputs": [],
   "source": [
    "query = \"Get a random number between 1 and 10\""
   ]
  },
  {
   "cell_type": "code",
   "execution_count": 11,
   "id": "97db4a77",
   "metadata": {},
   "outputs": [
    {
     "data": {
      "text/plain": [
       "[{'role': 'system',\n",
       "  'content': '\\nYou are an expert in composing functions. You are given a question and a set of possible functions. \\nBased on the question, you will need to make one or more function/tool calls to achieve the purpose. \\nIf none of the functions can be used, point it out and refuse to answer. \\nIf the given question lacks the parameters required by the function, also point it out.\\n\\nYou have access to the following tools:\\n<tools>[{\"type\": \"function\", \"function\": {\"name\": \"get_random_number_between\", \"description\": \"Gets a random number between min and max.\", \"parameters\": {\"type\": \"object\", \"properties\": {\"min\": {\"type\": \"integer\", \"description\": \"The minimum number.\"}, \"max\": {\"type\": \"integer\", \"description\": \"The maximum number.\"}}, \"required\": [\"min\", \"max\"]}, \"return\": {\"type\": \"integer\", \"description\": \"A random number between min and max.\"}}}, {\"type\": \"function\", \"function\": {\"name\": \"get_current_time\", \"description\": \"Returns the current time in 24-hour format.\", \"parameters\": {\"type\": \"object\", \"properties\": {}}, \"return\": {\"type\": \"string\", \"description\": \"str: Current time in HH:MM:SS format.\"}}}, {\"type\": \"function\", \"function\": {\"name\": \"get_number_to_ascii\", \"description\": \"Converts a number to its ASCII representation.\", \"parameters\": {\"type\": \"object\", \"properties\": {\"number\": {\"type\": \"integer\", \"description\": \"The number to convert.\"}}, \"required\": [\"number\"]}, \"return\": {\"type\": \"string\", \"description\": \"The ASCII representation of the number.\"}}}]</tools>\\n\\nThe output MUST strictly adhere to the following format, and NO other text MUST be included.\\nThe example format is as follows. Please make sure the parameter type is correct. If no function call is needed, please make the tool calls an empty list \\'[]\\'.\\n<tool_call>[\\n{\"name\": \"func_name1\", \"arguments\": {\"argument1\": \"value1\", \"argument2\": \"value2\"}},\\n{\"name\": \"func_name2\", \"arguments\": {\"argument1\": \"value1\", \"argument2\": \"value2\"}}\\n\\n...... (multiple other function calls can be included here)\\n]</tool_call>'},\n",
       " {'role': 'user', 'content': 'Get a random number between 1 and 10'}]"
      ]
     },
     "execution_count": 11,
     "metadata": {},
     "output_type": "execute_result"
    }
   ],
   "source": [
    "messages = prepare_messages(query, tool_list)\n",
    "messages"
   ]
  },
  {
   "cell_type": "code",
   "execution_count": 12,
   "id": "562c2c0e",
   "metadata": {},
   "outputs": [
    {
     "name": "stderr",
     "output_type": "stream",
     "text": [
      "The attention mask is not set and cannot be inferred from input because pad token is same as eos token. As a consequence, you may observe unexpected behavior. Please pass your input's `attention_mask` to obtain reliable results.\n"
     ]
    }
   ],
   "source": [
    "# pass the messages to the model to get the tool calls\n",
    "inputs = tokenizer.apply_chat_template(messages, add_generation_prompt=True, return_tensors=\"pt\").to(model.device)\n",
    "outputs = model.generate(inputs, max_new_tokens=512, do_sample=False, num_return_sequences=1, eos_token_id=tokenizer.eos_token_id)\n",
    "result = tokenizer.decode(outputs[0][len(inputs[0]):], skip_special_tokens=True)"
   ]
  },
  {
   "cell_type": "code",
   "execution_count": 13,
   "id": "0b00dcc8",
   "metadata": {},
   "outputs": [
    {
     "data": {
      "text/plain": [
       "'<tool_call>[{\"name\": \"get_random_number_between\", \"arguments\": {\"min\": 1, \"max\": 10}}]</tool_call>'"
      ]
     },
     "execution_count": 13,
     "metadata": {},
     "output_type": "execute_result"
    }
   ],
   "source": [
    "result"
   ]
  },
  {
   "cell_type": "code",
   "execution_count": 14,
   "id": "24a48dcb",
   "metadata": {},
   "outputs": [
    {
     "data": {
      "text/plain": [
       "[{'name': 'get_random_number_between', 'arguments': {'min': 1, 'max': 10}}]"
      ]
     },
     "execution_count": 14,
     "metadata": {},
     "output_type": "execute_result"
    }
   ],
   "source": [
    "# Parse the response to extract tool calls\n",
    "tool_calls = parse_response(result)\n",
    "tool_calls"
   ]
  },
  {
   "cell_type": "code",
   "execution_count": 15,
   "id": "cd7693a5",
   "metadata": {},
   "outputs": [
    {
     "data": {
      "text/plain": [
       "[9]"
      ]
     },
     "execution_count": 15,
     "metadata": {},
     "output_type": "execute_result"
    }
   ],
   "source": [
    "tool_responses = [\n",
    "    tool_map.get(tc[\"name\"])(*tc[\"arguments\"].values()) for tc in tool_calls\n",
    "]\n",
    "tool_responses"
   ]
  },
  {
   "cell_type": "code",
   "execution_count": 16,
   "id": "aad08adb",
   "metadata": {},
   "outputs": [
    {
     "data": {
      "text/plain": [
       "[{'role': 'system',\n",
       "  'content': '\\nYou are an expert in composing functions. You are given a question and a set of possible functions. \\nBased on the question, you will need to make one or more function/tool calls to achieve the purpose. \\nIf none of the functions can be used, point it out and refuse to answer. \\nIf the given question lacks the parameters required by the function, also point it out.\\n\\nYou have access to the following tools:\\n<tools>[{\"type\": \"function\", \"function\": {\"name\": \"get_random_number_between\", \"description\": \"Gets a random number between min and max.\", \"parameters\": {\"type\": \"object\", \"properties\": {\"min\": {\"type\": \"integer\", \"description\": \"The minimum number.\"}, \"max\": {\"type\": \"integer\", \"description\": \"The maximum number.\"}}, \"required\": [\"min\", \"max\"]}, \"return\": {\"type\": \"integer\", \"description\": \"A random number between min and max.\"}}}, {\"type\": \"function\", \"function\": {\"name\": \"get_current_time\", \"description\": \"Returns the current time in 24-hour format.\", \"parameters\": {\"type\": \"object\", \"properties\": {}}, \"return\": {\"type\": \"string\", \"description\": \"str: Current time in HH:MM:SS format.\"}}}, {\"type\": \"function\", \"function\": {\"name\": \"get_number_to_ascii\", \"description\": \"Converts a number to its ASCII representation.\", \"parameters\": {\"type\": \"object\", \"properties\": {\"number\": {\"type\": \"integer\", \"description\": \"The number to convert.\"}}, \"required\": [\"number\"]}, \"return\": {\"type\": \"string\", \"description\": \"The ASCII representation of the number.\"}}}]</tools>\\n\\nThe output MUST strictly adhere to the following format, and NO other text MUST be included.\\nThe example format is as follows. Please make sure the parameter type is correct. If no function call is needed, please make the tool calls an empty list \\'[]\\'.\\n<tool_call>[\\n{\"name\": \"func_name1\", \"arguments\": {\"argument1\": \"value1\", \"argument2\": \"value2\"}},\\n{\"name\": \"func_name2\", \"arguments\": {\"argument1\": \"value1\", \"argument2\": \"value2\"}}\\n\\n...... (multiple other function calls can be included here)\\n]</tool_call>'},\n",
       " {'role': 'user', 'content': 'Get a random number between 1 and 10'},\n",
       " {'role': 'assistant',\n",
       "  'content': '<tool_call>[{\"name\": \"get_random_number_between\", \"arguments\": {\"min\": 1, \"max\": 10}}]</tool_call>'},\n",
       " {'role': 'assistant', 'content': '[9]'},\n",
       " {'role': 'user', 'content': 'Can you give me the hour?'}]"
      ]
     },
     "execution_count": 16,
     "metadata": {},
     "output_type": "execute_result"
    }
   ],
   "source": [
    "# For the second turn, rebuild the history of messages:\n",
    "history = messages.copy()\n",
    "# Add the \"parsed response\"\n",
    "history.append({\"role\": \"assistant\", \"content\": result})\n",
    "history.append({\"role\": \"assistant\", \"content\": str(tool_responses)})\n",
    "# Add the new query\n",
    "query = \"Can you give me the hour?\"\n",
    "messages = prepare_messages(query, tool_list, history)\n",
    "\n",
    "messages"
   ]
  },
  {
   "cell_type": "code",
   "execution_count": 18,
   "id": "82b1d166",
   "metadata": {},
   "outputs": [
    {
     "name": "stdout",
     "output_type": "stream",
     "text": [
      "[{'name': 'get_current_time', 'arguments': {}}]\n",
      "['02:10:35']\n"
     ]
    }
   ],
   "source": [
    "# passing the messages to the model to get the tool calls\n",
    "inputs = tokenizer.apply_chat_template(messages, add_generation_prompt=True, return_tensors=\"pt\").to(model.device)\n",
    "outputs = model.generate(inputs, max_new_tokens=512, do_sample=False, num_return_sequences=1, eos_token_id=tokenizer.eos_token_id)\n",
    "result = tokenizer.decode(outputs[0][len(inputs[0]):], skip_special_tokens=True)\n",
    "# Parse the response to extract tool calls\n",
    "tool_calls = parse_response(result)\n",
    "print(tool_calls)\n",
    "# Call the tools with the parsed arguments\n",
    "tool_responses = [tool_map.get(tc[\"name\"])(*tc[\"arguments\"].values()) for tc in tool_calls]\n",
    "print(tool_responses)"
   ]
  },
  {
   "cell_type": "code",
   "execution_count": 19,
   "id": "0a26095c",
   "metadata": {},
   "outputs": [],
   "source": [
    "# add tool call and response to the history\n",
    "history.append({\"role\": \"assistant\", \"content\": result})\n",
    "history.append({\"role\": \"assistant\", \"content\": str(tool_responses)})"
   ]
  },
  {
   "cell_type": "markdown",
   "id": "9bc4f009",
   "metadata": {},
   "source": [
    "#### Parallel function calls"
   ]
  },
  {
   "cell_type": "code",
   "execution_count": 21,
   "id": "a9a55065",
   "metadata": {},
   "outputs": [
    {
     "name": "stdout",
     "output_type": "stream",
     "text": [
      "[{'role': 'system', 'content': '\\nYou are an expert in composing functions. You are given a question and a set of possible functions. \\nBased on the question, you will need to make one or more function/tool calls to achieve the purpose. \\nIf none of the functions can be used, point it out and refuse to answer. \\nIf the given question lacks the parameters required by the function, also point it out.\\n\\nYou have access to the following tools:\\n<tools>[{\"type\": \"function\", \"function\": {\"name\": \"get_random_number_between\", \"description\": \"Gets a random number between min and max.\", \"parameters\": {\"type\": \"object\", \"properties\": {\"min\": {\"type\": \"integer\", \"description\": \"The minimum number.\"}, \"max\": {\"type\": \"integer\", \"description\": \"The maximum number.\"}}, \"required\": [\"min\", \"max\"]}, \"return\": {\"type\": \"integer\", \"description\": \"A random number between min and max.\"}}}, {\"type\": \"function\", \"function\": {\"name\": \"get_current_time\", \"description\": \"Returns the current time in 24-hour format.\", \"parameters\": {\"type\": \"object\", \"properties\": {}}, \"return\": {\"type\": \"string\", \"description\": \"str: Current time in HH:MM:SS format.\"}}}, {\"type\": \"function\", \"function\": {\"name\": \"get_number_to_ascii\", \"description\": \"Converts a number to its ASCII representation.\", \"parameters\": {\"type\": \"object\", \"properties\": {\"number\": {\"type\": \"integer\", \"description\": \"The number to convert.\"}}, \"required\": [\"number\"]}, \"return\": {\"type\": \"string\", \"description\": \"The ASCII representation of the number.\"}}}]</tools>\\n\\nThe output MUST strictly adhere to the following format, and NO other text MUST be included.\\nThe example format is as follows. Please make sure the parameter type is correct. If no function call is needed, please make the tool calls an empty list \\'[]\\'.\\n<tool_call>[\\n{\"name\": \"func_name1\", \"arguments\": {\"argument1\": \"value1\", \"argument2\": \"value2\"}},\\n{\"name\": \"func_name2\", \"arguments\": {\"argument1\": \"value1\", \"argument2\": \"value2\"}}\\n\\n...... (multiple other function calls can be included here)\\n]</tool_call>'}, {'role': 'user', 'content': 'Get a random number between 1 and 10'}, {'role': 'assistant', 'content': '<tool_call>[{\"name\": \"get_random_number_between\", \"arguments\": {\"min\": 1, \"max\": 10}}]</tool_call>'}, {'role': 'assistant', 'content': '[9]'}, {'role': 'assistant', 'content': '<tool_call>[{\"name\": \"get_current_time\", \"arguments\": {}}]</tool_call>'}, {'role': 'assistant', 'content': \"['02:10:35']\"}, {'role': 'user', 'content': 'Can you give me the current hour and a random number between 1 and 50?'}]\n"
     ]
    },
    {
     "name": "stdout",
     "output_type": "stream",
     "text": [
      "[{'name': 'get_current_time', 'arguments': {}}, {'name': 'get_random_number_between', 'arguments': {'min': 1, 'max': 50}}]\n"
     ]
    }
   ],
   "source": [
    "query = \"Can you give me the current hour and a random number between 1 and 50?\"\n",
    "\n",
    "messages = prepare_messages(query, tools=tool_list, history=history)\n",
    "print(messages)\n",
    "\n",
    "inputs = tokenizer.apply_chat_template(\n",
    "    messages, add_generation_prompt=True, return_tensors=\"pt\"\n",
    ").to(model.device)\n",
    "outputs = model.generate(\n",
    "    inputs,\n",
    "    max_new_tokens=512,\n",
    "    do_sample=False,\n",
    "    num_return_sequences=1,\n",
    "    eos_token_id=tokenizer.eos_token_id,\n",
    ")\n",
    "result = tokenizer.decode(outputs[0][len(inputs[0]) :], skip_special_tokens=True)\n",
    "\n",
    "tool_calls = parse_response(result)\n",
    "print(tool_calls)"
   ]
  },
  {
   "cell_type": "code",
   "execution_count": 23,
   "id": "62a2358b",
   "metadata": {},
   "outputs": [],
   "source": [
    "# Call the tools with the parsed arguments\n",
    "tool_responses = [\n",
    "    tool_map.get(tc[\"name\"])(*tc[\"arguments\"].values()) for tc in tool_calls\n",
    "]"
   ]
  },
  {
   "cell_type": "code",
   "execution_count": 24,
   "id": "2e03ae4c",
   "metadata": {},
   "outputs": [
    {
     "data": {
      "text/plain": [
       "['02:13:27', 32]"
      ]
     },
     "execution_count": 24,
     "metadata": {},
     "output_type": "execute_result"
    }
   ],
   "source": [
    "tool_responses"
   ]
  },
  {
   "cell_type": "code",
   "execution_count": 25,
   "id": "237382e7",
   "metadata": {},
   "outputs": [],
   "source": [
    "# Tools not available\n",
    "query = \"Can you open a new page with youtube?\"\n",
    "\n",
    "messages = prepare_messages(query, tools=tool_list, history=history)\n",
    "\n",
    "inputs = tokenizer.apply_chat_template(messages, add_generation_prompt=True, return_tensors=\"pt\").to(model.device)\n",
    "outputs = model.generate(inputs, max_new_tokens=512, do_sample=False, num_return_sequences=1, eos_token_id=tokenizer.eos_token_id)\n",
    "result = tokenizer.decode(outputs[0][len(inputs[0]):], skip_special_tokens=True)\n",
    "\n",
    "tool_calls = parse_response(result)"
   ]
  },
  {
   "cell_type": "code",
   "execution_count": null,
   "id": "1ad7b111",
   "metadata": {},
   "outputs": [],
   "source": [
    "tool_calls"
   ]
  },
  {
   "cell_type": "code",
   "execution_count": null,
   "id": "2d192635",
   "metadata": {},
   "outputs": [],
   "source": []
  }
 ],
 "metadata": {
  "kernelspec": {
   "display_name": "Python 3",
   "language": "python",
   "name": "python3"
  },
  "language_info": {
   "codemirror_mode": {
    "name": "ipython",
    "version": 3
   },
   "file_extension": ".py",
   "mimetype": "text/x-python",
   "name": "python",
   "nbconvert_exporter": "python",
   "pygments_lexer": "ipython3",
   "version": "3.10.16"
  }
 },
 "nbformat": 4,
 "nbformat_minor": 5
}
