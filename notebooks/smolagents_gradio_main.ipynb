{
 "cells": [
  {
   "cell_type": "markdown",
   "id": "cf266621",
   "metadata": {},
   "source": [
    "we’re going to use smolagents, a library that provides a framework for developing your agents with ease\n",
    "\n",
    "References:\\\n",
    "https://github.com/huggingface/smolagents\\\n",
    "https://huggingface.co/spaces/agents-course/First_agent_template/blob/main/app.py"
   ]
  },
  {
   "cell_type": "code",
   "execution_count": 1,
   "id": "6ea49989",
   "metadata": {},
   "outputs": [
    {
     "name": "stdout",
     "output_type": "stream",
     "text": [
      "/mnt/batch/tasks/shared/LS_root/mounts/clusters/soutrik-vm-dev/code/Users/Soutrik.Chowdhury/hugging_face_agents_course\n"
     ]
    }
   ],
   "source": [
    "import os\n",
    "os.chdir(\"/mnt/batch/tasks/shared/LS_root/mounts/clusters/soutrik-vm-dev/code/Users/Soutrik.Chowdhury/hugging_face_agents_course\")\n",
    "print(os.getcwd())"
   ]
  },
  {
   "cell_type": "code",
   "execution_count": 2,
   "id": "f1ceccb4",
   "metadata": {},
   "outputs": [],
   "source": [
    "from smolagents import TransformersModel\n",
    "from smolagents import CodeAgent, DuckDuckGoSearchTool, HfApiModel, load_tool, tool\n",
    "import yaml\n",
    "# from tools.final_answer import FinalAnswerTool"
   ]
  },
  {
   "cell_type": "code",
   "execution_count": 3,
   "id": "bedc2435",
   "metadata": {},
   "outputs": [],
   "source": [
    "from typing import Any, Optional\n",
    "from smolagents.tools import Tool\n",
    "\n",
    "\n",
    "class FinalAnswerTool(Tool):\n",
    "    \"\"\"\n",
    "    FinalAnswerTool is a tool that provides a final answer to the given problem.\n",
    "    It is used to finalize the answer after all other tools have been used.\n",
    "    \"\"\"\n",
    "    name = \"final_answer\"\n",
    "    description = \"Provides a final answer to the given problem.\"\n",
    "    inputs = {\n",
    "        \"answer\": {\"type\": \"any\", \"description\": \"The final answer to the problem\"}\n",
    "    }\n",
    "    output_type = \"any\"\n",
    "\n",
    "    def forward(self, answer: Any) -> Any:\n",
    "        return answer\n",
    "\n",
    "    def __init__(self, *args, **kwargs):\n",
    "        self.is_initialized = False"
   ]
  },
  {
   "cell_type": "code",
   "execution_count": 4,
   "id": "1fabcfd9",
   "metadata": {},
   "outputs": [
    {
     "name": "stderr",
     "output_type": "stream",
     "text": [
      "/anaconda/envs/unstructured_seed_env/lib/python3.10/site-packages/torch/cuda/__init__.py:734: UserWarning: Can't initialize NVML\n",
      "  warnings.warn(\"Can't initialize NVML\")\n"
     ]
    }
   ],
   "source": [
    "model = TransformersModel(\n",
    "    model_id=\"meta-llama/Llama-3.2-1B-Instruct\", max_new_tokens=4096, device_map=\"auto\"\n",
    ")"
   ]
  },
  {
   "cell_type": "code",
   "execution_count": 5,
   "id": "8ee69be6",
   "metadata": {},
   "outputs": [],
   "source": [
    "# import requests\n",
    "# from bs4 import BeautifulSoup\n",
    "\n",
    "# @tool\n",
    "# def get_news() -> str:\n",
    "#     \"\"\"\n",
    "#     Fetches and parses all visible text from a webpage using BeautifulSoup.\n",
    "#     This function sends a GET request to the specified URL, retrieves the HTML content,\n",
    "#     and extracts the visible text while removing any script or style elements.\n",
    "#     Returns:\n",
    "#         str: The visible text content from the page.\n",
    "#     \"\"\"\n",
    "#     url = \"https://indianexpress.com/about/bullet/\"\n",
    "#     headers = {\n",
    "#         \"User-Agent\": \"Mozilla/5.0 (Windows NT 10.0; Win64; x64)\",\n",
    "#         \"Accept-Language\": \"en-US,en;q=0.9\",\n",
    "#         \"Accept\": \"text/html,application/xhtml+xml,application/xml;q=0.9,image/webp,*/*;q=0.8\",\n",
    "#     }\n",
    "#     response = requests.get(url, headers=headers)\n",
    "#     if response.status_code != 200:\n",
    "#         return f\"Error: Unable to fetch page. Status code: {response.status_code}\"\n",
    "\n",
    "#     soup = BeautifulSoup(response.text, \"html.parser\")\n",
    "#     # Remove script and style elements\n",
    "#     for tag in soup([\"script\", \"style\", \"noscript\"]):\n",
    "#         tag.decompose()\n",
    "#     # Extract visible text\n",
    "#     text = soup.get_text(separator=\"\\n\")\n",
    "#     # Clean up whitespace\n",
    "#     lines = [line.strip() for line in text.splitlines() if line.strip()]\n",
    "#     return \"\\n\".join(lines)\n",
    "\n",
    "# @tool\n",
    "# def get_weather(city: str) -> dict:\n",
    "#     \"\"\"\n",
    "#     Fetch current weather for a city using Open-Meteo API.\n",
    "\n",
    "#     Args:\n",
    "#         city (str): The name of the city to get the weather for.\n",
    "#     Returns:\n",
    "#         dict: A dictionary containing the current weather data.\n",
    "#     \"\"\"\n",
    "#     # Open-Meteo API requires latitude and longitude, so we use Nominatim to get them\n",
    "#     geo_url = f\"https://nominatim.openstreetmap.org/search?city={city}&format=json\"\n",
    "#     geo_resp = requests.get(geo_url, headers={\"User-Agent\": \"weather-app\"})\n",
    "#     if geo_resp.status_code != 200 or not geo_resp.json():\n",
    "#         return {\"error\": \"Could not get location data.\"}\n",
    "#     lat = geo_resp.json()[0][\"lat\"]\n",
    "#     lon = geo_resp.json()[0][\"lon\"]\n",
    "\n",
    "#     weather_url = (\n",
    "#         f\"https://api.open-meteo.com/v1/forecast?\"\n",
    "#         f\"latitude={lat}&longitude={lon}&current_weather=true\"\n",
    "#     )\n",
    "#     weather_resp = requests.get(weather_url)\n",
    "#     if weather_resp.status_code == 200:\n",
    "#         return weather_resp.json().get(\"current_weather\", {})\n",
    "#     else:\n",
    "#         return {\"error\": \"Could not fetch weather data.\"}"
   ]
  },
  {
   "cell_type": "code",
   "execution_count": 6,
   "id": "f6cc59a5",
   "metadata": {},
   "outputs": [],
   "source": [
    "# Below is an example of a tool that does nothing. Amaze us with your creativity !\n",
    "\n",
    "import datetime\n",
    "import pytz\n",
    "\n",
    "@tool\n",
    "def my_custom_tool(arg1:str, arg2:int)-> str: #it's import to specify the return type\n",
    "    #Keep this format for the description / args / args description but feel free to modify the tool\n",
    "    \"\"\"A tool that does nothing yet \n",
    "    Args:\n",
    "        arg1: the first argument\n",
    "        arg2: the second argument\n",
    "    \"\"\"\n",
    "    return \"What magic will you build ?\"\n",
    "\n",
    "@tool\n",
    "def get_current_time_in_timezone(timezone: str) -> str:\n",
    "    \"\"\"A tool that fetches the current local time in a specified timezone.\n",
    "    Args:\n",
    "        timezone: A string representing a valid timezone (e.g., 'America/New_York').\n",
    "    \"\"\"\n",
    "    try:\n",
    "        # Create timezone object\n",
    "        tz = pytz.timezone(timezone)\n",
    "        # Get current time in that timezone\n",
    "        local_time = datetime.datetime.now(tz).strftime(\"%Y-%m-%d %H:%M:%S\")\n",
    "        return f\"The current local time in {timezone} is: {local_time}\"\n",
    "    except Exception as e:\n",
    "        return f\"Error fetching time for timezone '{timezone}': {str(e)}\"\n"
   ]
  },
  {
   "cell_type": "code",
   "execution_count": 7,
   "id": "e6e2e953",
   "metadata": {},
   "outputs": [],
   "source": [
    "final_answer = FinalAnswerTool()"
   ]
  },
  {
   "cell_type": "code",
   "execution_count": 8,
   "id": "8427a3d6",
   "metadata": {},
   "outputs": [],
   "source": [
    "prompts_path = \"prompts/main.yaml\"\n",
    "with open(prompts_path, \"r\") as f:\n",
    "    prompts = yaml.safe_load(f)"
   ]
  },
  {
   "cell_type": "code",
   "execution_count": 9,
   "id": "39b3e0bf",
   "metadata": {},
   "outputs": [
    {
     "data": {
      "text/plain": [
       "{'system_prompt': 'You are an expert assistant who can solve any task using code blobs. You will be given a task to solve as best you can.\\nTo do so, you have been given access to a list of tools: these tools are basically Python functions which you can call with code.\\nTo solve the task, you must plan forward to proceed in a series of steps, in a cycle of \\'Thought:\\', \\'Code:\\', and \\'Observation:\\' sequences.\\nAt each step, in the \\'Thought:\\' sequence, you should first explain your reasoning towards solving the task and the tools that you want to use.\\nThen in the \\'Code:\\' sequence, you should write the code in simple Python. The code sequence must end with \\'<end_code>\\' sequence.\\nDuring each intermediate step, you can use \\'print()\\' to save whatever important information you will then need.\\nThese print outputs will then appear in the \\'Observation:\\' field, which will be available as input for the next step.\\nIn the end you have to return a final answer using the `final_answer` tool.\\n\\nHere are a few examples using notional tools:\\n---\\nTask: \"Generate an image of the oldest person in this document.\"\\n\\nThought: I will proceed step by step and use the following tools: `document_qa` to find the oldest person in the document, then `image_generator` to generate an image according to the answer.\\nCode:\\n```py\\nanswer = document_qa(document=document, question=\"Who is the oldest person mentioned?\")\\nprint(answer)\\n```<end_code>\\nObservation: \"The oldest person in the document is John Doe, a 55 year old lumberjack living in Newfoundland.\"\\n\\nThought: I will now generate an image showcasing the oldest person.\\nCode:\\n```py\\nimage = image_generator(\"A portrait of John Doe, a 55-year-old man living in Canada.\")\\nfinal_answer(image)\\n```<end_code>\\n\\n---\\nTask: \"What is the result of the following operation: 5 + 3 + 1294.678?\"\\n\\nThought: I will use python code to compute the result of the operation and then return the final answer using the `final_answer` tool\\nCode:\\n```py\\nresult = 5 + 3 + 1294.678\\nfinal_answer(result)\\n```<end_code>\\n\\n---\\nTask:\\n\"Answer the question in the variable `question` about the image stored in the variable `image`. The question is in French.\\nYou have been provided with these additional arguments, that you can access using the keys as variables in your python code:\\n{\\'question\\': \\'Quel est l\\'animal sur l\\'image?\\', \\'image\\': \\'path/to/image.jpg\\'}\"\\n\\nThought: I will use the following tools: `translator` to translate the question into English and then `image_qa` to answer the question on the input image.\\nCode:\\n```py\\ntranslated_question = translator(question=question, src_lang=\"French\", tgt_lang=\"English\")\\nprint(f\"The translated question is {translated_question}.\")\\nanswer = image_qa(image=image, question=translated_question)\\nfinal_answer(f\"The answer is {answer}\")\\n```<end_code>\\n---\\nTask:\\nIn a 1979 interview, Stanislaus Ulam discusses with Martin Sherwin about other great physicists of his time, including Oppenheimer.\\nWhat does he say was the consequence of Einstein learning too much math on his creativity, in one word?\\nThought: I need to find and read the 1979 interview of Stanislaus Ulam with Martin Sherwin.\\nCode:\\n```py\\npages = search(query=\"1979 interview Stanislaus Ulam Martin Sherwin physicists Einstein\")\\nprint(pages)\\n```<end_code>\\nObservation:\\nNo result found for query \"1979 interview Stanislaus Ulam Martin Sherwin physicists Einstein\".\\n\\nThought: The query was maybe too restrictive and did not find any results. Let\\'s try again with a broader query.\\nCode:\\n```py\\npages = search(query=\"1979 interview Stanislaus Ulam\")\\nprint(pages)\\n```<end_code>\\nObservation:\\nFound 6 pages:\\n[Stanislaus Ulam 1979 interview](https://ahf.nuclearmuseum.org/voices/oral-histories/stanislaus-ulams-interview-1979/)\\n\\n[Ulam discusses Manhattan Project](https://ahf.nuclearmuseum.org/manhattan-project/ulam-manhattan-project/)\\n\\n(truncated)\\n\\nThought: I will read the first 2 pages to know more.\\nCode:\\n```py\\nfor url in [\"https://ahf.nuclearmuseum.org/voices/oral-histories/stanislaus-ulams-interview-1979/\", \"https://ahf.nuclearmuseum.org/manhattan-project/ulam-manhattan-project/\"]:\\n    whole_page = visit_webpage(url)\\n    print(whole_page)\\n    print(\"\\\\n\" + \"=\"*80 + \"\\\\n\")  # Print separator between pages\\n```<end_code>\\nObservation:\\nManhattan Project Locations:\\nLos Alamos, NM\\nStanislaus Ulam was a Polish-American mathematician. He worked on the Manhattan Project at Los Alamos and later helped design the hydrogen bomb. In this interview, he discusses his work at\\n(truncated)\\n\\nThought: I now have the final answer: from the webpages visited, Stanislaus Ulam says of Einstein: \"He learned too much mathematics and sort of diminished, it seems to me personally, it seems to me his purely physics creativity.\" Let\\'s answer in one word.\\nCode:\\n```py\\nfinal_answer(\"diminished\")\\n```<end_code>\\n\\n---\\nTask: \"Which city has the highest population: Guangzhou or Shanghai?\"\\n\\nThought: I need to get the populations for both cities and compare them: I will use the tool `search` to get the population of both cities.\\nCode:\\n```py\\nfor city in [\"Guangzhou\", \"Shanghai\"]:\\n    print(f\"Population {city}:\", search(f\"{city} population\")\\n```<end_code>\\nObservation:\\nPopulation Guangzhou: [\\'Guangzhou has a population of 15 million inhabitants as of 2021.\\']\\nPopulation Shanghai: \\'26 million (2019)\\'\\n\\nThought: Now I know that Shanghai has the highest population.\\nCode:\\n```py\\nfinal_answer(\"Shanghai\")\\n```<end_code>\\n\\n---\\nTask: \"What is the current age of the pope, raised to the power 0.36?\"\\n\\nThought: I will use the tool `wiki` to get the age of the pope, and confirm that with a web search.\\nCode:\\n```py\\npope_age_wiki = wiki(query=\"current pope age\")\\nprint(\"Pope age as per wikipedia:\", pope_age_wiki)\\npope_age_search = web_search(query=\"current pope age\")\\nprint(\"Pope age as per google search:\", pope_age_search)\\n```<end_code>\\nObservation:\\nPope age: \"The pope Francis is currently 88 years old.\"\\n\\nThought: I know that the pope is 88 years old. Let\\'s compute the result using python code.\\nCode:\\n```py\\npope_current_age = 88 ** 0.36\\nfinal_answer(pope_current_age)\\n```<end_code>\\n\\nAbove example were using notional tools that might not exist for you. On top of performing computations in the Python code snippets that you create, you only have access to these tools:\\n{%- for tool in tools.values() %}\\n- {{ tool.name }}: {{ tool.description }}\\n    Takes inputs: {{tool.inputs}}\\n    Returns an output of type: {{tool.output_type}}\\n{%- endfor %}\\n\\n{%- if managed_agents and managed_agents.values() | list %}\\nYou can also give tasks to team members.\\nCalling a team member works the same as for calling a tool: simply, the only argument you can give in the call is \\'task\\', a long string explaining your task.\\nGiven that this team member is a real human, you should be very verbose in your task.\\nHere is a list of the team members that you can call:\\n{%- for agent in managed_agents.values() %}\\n- {{ agent.name }}: {{ agent.description }}\\n{%- endfor %}\\n{%- else %}\\n{%- endif %}\\n\\nHere are the rules you should always follow to solve your task:\\n1. Always provide a \\'Thought:\\' sequence, and a \\'Code:\\\\n```py\\' sequence ending with \\'```<end_code>\\' sequence, else you will fail.\\n2. Use only variables that you have defined!\\n3. Always use the right arguments for the tools. DO NOT pass the arguments as a dict as in \\'answer = wiki({\\'query\\': \"What is the place where James Bond lives?\"})\\', but use the arguments directly as in \\'answer = wiki(query=\"What is the place where James Bond lives?\")\\'.\\n4. Take care to not chain too many sequential tool calls in the same code block, especially when the output format is unpredictable. For instance, a call to search has an unpredictable return format, so do not have another tool call that depends on its output in the same block: rather output results with print() to use them in the next block.\\n5. Call a tool only when needed, and never re-do a tool call that you previously did with the exact same parameters.\\n6. Don\\'t name any new variable with the same name as a tool: for instance don\\'t name a variable \\'final_answer\\'.\\n7. Never create any notional variables in our code, as having these in your logs will derail you from the true variables.\\n8. You can use imports in your code, but only from the following list of modules: {{authorized_imports}}\\n9. The state persists between code executions: so if in one step you\\'ve created variables or imported modules, these will all persist.\\n10. Don\\'t give up! You\\'re in charge of solving the task, not providing directions to solve it.\\n\\nNow Begin! If you solve the task correctly, you will receive a reward of $1,000,000.',\n",
       " 'planning': {'initial_facts': 'Below I will present you a task.\\nYou will now build a comprehensive preparatory survey of which facts we have at our disposal and which ones we still need.\\nTo do so, you will have to read the task and identify things that must be discovered in order to successfully complete it.\\nDon\\'t make any assumptions. For each item, provide a thorough reasoning. Here is how you will structure this survey:\\n\\n---\\n### 1. Facts given in the task\\nList here the specific facts given in the task that could help you (there might be nothing here).\\n\\n### 2. Facts to look up\\nList here any facts that we may need to look up.\\nAlso list where to find each of these, for instance a website, a file... - maybe the task contains some sources that you should re-use here.\\n\\n### 3. Facts to derive\\nList here anything that we want to derive from the above by logical reasoning, for instance computation or simulation.\\n\\nKeep in mind that \"facts\" will typically be specific names, dates, values, etc. Your answer should use the below headings:\\n### 1. Facts given in the task\\n### 2. Facts to look up\\n### 3. Facts to derive\\nDo not add anything else.',\n",
       "  'initial_plan': \"You are a world expert at making efficient plans to solve any task using a set of carefully crafted tools.\\nNow for the given task, develop a step-by-step high-level plan taking into account the above inputs and list of facts.\\nThis plan should involve individual tasks based on the available tools, that if executed correctly will yield the correct answer.\\nDo not skip steps, do not add any superfluous steps. Only write the high-level plan, DO NOT DETAIL INDIVIDUAL TOOL CALLS.\\nAfter writing the final step of the plan, write the '\\\\n<end_plan>' tag and stop there.\\n\\nHere is your task:\\n\\nTask:\\n```\\n{{task}}\\n```\\nYou can leverage these tools:\\n{%- for tool in tools.values() %}\\n- {{ tool.name }}: {{ tool.description }}\\n    Takes inputs: {{tool.inputs}}\\n    Returns an output of type: {{tool.output_type}}\\n{%- endfor %}\\n\\n{%- if managed_agents and managed_agents.values() | list %}\\nYou can also give tasks to team members.\\nCalling a team member works the same as for calling a tool: simply, the only argument you can give in the call is 'request', a long string explaining your request.\\nGiven that this team member is a real human, you should be very verbose in your request.\\nHere is a list of the team members that you can call:\\n{%- for agent in managed_agents.values() %}\\n- {{ agent.name }}: {{ agent.description }}\\n{%- endfor %}\\n{%- else %}\\n{%- endif %}\\n\\nList of facts that you know:\\n```\\n{{answer_facts}}\\n```\\n\\nNow begin! Write your plan below.\",\n",
       "  'update_facts_pre_messages': 'You are a world expert at gathering known and unknown facts based on a conversation.\\nBelow you will find a task, and a history of attempts made to solve the task. You will have to produce a list of these:\\n### 1. Facts given in the task\\n### 2. Facts that we have learned\\n### 3. Facts still to look up\\n### 4. Facts still to derive\\nFind the task and history below:',\n",
       "  'update_facts_post_messages': \"Earlier we've built a list of facts.\\nBut since in your previous steps you may have learned useful new facts or invalidated some false ones.\\nPlease update your list of facts based on the previous history, and provide these headings:\\n### 1. Facts given in the task\\n### 2. Facts that we have learned\\n### 3. Facts still to look up\\n### 4. Facts still to derive\\nNow write your new list of facts below.\",\n",
       "  'update_plan_pre_messages': 'You are a world expert at making efficient plans to solve any task using a set of carefully crafted tools.\\nYou have been given a task:\\n```\\n{{task}}\\n```\\n\\nFind below the record of what has been tried so far to solve it. Then you will be asked to make an updated plan to solve the task.\\nIf the previous tries so far have met some success, you can make an updated plan based on these actions.\\nIf you are stalled, you can make a completely new plan starting from scratch.',\n",
       "  'update_plan_post_messages': \"You're still working towards solving this task:\\n```\\n{{task}}\\n```\\nYou can leverage these tools:\\n{%- for tool in tools.values() %}\\n- {{ tool.name }}: {{ tool.description }}\\n    Takes inputs: {{tool.inputs}}\\n    Returns an output of type: {{tool.output_type}}\\n{%- endfor %}\\n\\n{%- if managed_agents and managed_agents.values() | list %}\\nYou can also give tasks to team members.\\nCalling a team member works the same as for calling a tool: simply, the only argument you can give in the call is 'task'.\\nGiven that this team member is a real human, you should be very verbose in your task, it should be a long string providing informations as detailed as necessary.\\nHere is a list of the team members that you can call:\\n{%- for agent in managed_agents.values() %}\\n- {{ agent.name }}: {{ agent.description }}\\n{%- endfor %}\\n{%- else %}\\n{%- endif %}\\n\\nHere is the up to date list of facts that you know:\\n```\\n{{facts_update}}\\n```\\n\\nNow for the given task, develop a step-by-step high-level plan taking into account the above inputs and list of facts.\\nThis plan should involve individual tasks based on the available tools, that if executed correctly will yield the correct answer.\\nBeware that you have {remaining_steps} steps remaining.\\nDo not skip steps, do not add any superfluous steps. Only write the high-level plan, DO NOT DETAIL INDIVIDUAL TOOL CALLS.\\nAfter writing the final step of the plan, write the '\\\\n<end_plan>' tag and stop there.\\n\\nNow write your new plan below.\"},\n",
       " 'managed_agent': {'task': \"You're a helpful agent named '{{name}}'.\\nYou have been submitted this task by your manager.\\n---\\nTask:\\n{{task}}\\n---\\nYou're helping your manager solve a wider task: so make sure to not provide a one-line answer, but give as much information as possible to give them a clear understanding of the answer.\\nYour final_answer WILL HAVE to contain these parts:\\n### 1. Task outcome (short version):\\n### 2. Task outcome (extremely detailed version):\\n### 3. Additional context (if relevant):\\n\\nPut all these in your final_answer tool, everything that you do not pass as an argument to final_answer will be lost.\\nAnd even if your task resolution is not successful, please return as much context as possible, so that your manager can act upon this feedback.\",\n",
       "  'report': \"Here is the final answer from your managed agent '{{name}}':\\n{{final_answer}}\"}}"
      ]
     },
     "execution_count": 9,
     "metadata": {},
     "output_type": "execute_result"
    }
   ],
   "source": [
    "prompts"
   ]
  },
  {
   "cell_type": "code",
   "execution_count": 10,
   "id": "927b1c4f",
   "metadata": {},
   "outputs": [],
   "source": [
    "agent = CodeAgent(\n",
    "    model=model,\n",
    "    tools=[final_answer, my_custom_tool, get_current_time_in_timezone],\n",
    "    max_steps=6,\n",
    "    verbosity_level=1,\n",
    "    grammar=None,\n",
    "    planning_interval=None,\n",
    "    name=None,\n",
    "    description=None,\n",
    "    prompt_templates=prompts\n",
    ")\n"
   ]
  },
  {
   "cell_type": "code",
   "execution_count": 11,
   "id": "49f8cb4c",
   "metadata": {},
   "outputs": [],
   "source": [
    "import mimetypes\n",
    "import os\n",
    "import re\n",
    "import shutil\n",
    "from typing import Optional\n",
    "\n",
    "from smolagents.agent_types import AgentAudio, AgentImage, AgentText, handle_agent_output_types\n",
    "from smolagents.agents import ActionStep, MultiStepAgent\n",
    "from smolagents.memory import MemoryStep\n",
    "from smolagents.utils import _is_package_available\n",
    "\n",
    "\n",
    "def pull_messages_from_step(\n",
    "    step_log: MemoryStep,\n",
    "):\n",
    "    \"\"\"Extract ChatMessage objects from agent steps with proper nesting\"\"\"\n",
    "    import gradio as gr\n",
    "\n",
    "    if isinstance(step_log, ActionStep):\n",
    "        # Output the step number\n",
    "        step_number = f\"Step {step_log.step_number}\" if step_log.step_number is not None else \"\"\n",
    "        yield gr.ChatMessage(role=\"assistant\", content=f\"**{step_number}**\")\n",
    "\n",
    "        # First yield the thought/reasoning from the LLM\n",
    "        if hasattr(step_log, \"model_output\") and step_log.model_output is not None:\n",
    "            # Clean up the LLM output\n",
    "            model_output = step_log.model_output.strip()\n",
    "            # Remove any trailing <end_code> and extra backticks, handling multiple possible formats\n",
    "            model_output = re.sub(r\"```\\s*<end_code>\", \"```\", model_output)  # handles ```<end_code>\n",
    "            model_output = re.sub(r\"<end_code>\\s*```\", \"```\", model_output)  # handles <end_code>```\n",
    "            model_output = re.sub(r\"```\\s*\\n\\s*<end_code>\", \"```\", model_output)  # handles ```\\n<end_code>\n",
    "            model_output = model_output.strip()\n",
    "            yield gr.ChatMessage(role=\"assistant\", content=model_output)\n",
    "\n",
    "        # For tool calls, create a parent message\n",
    "        if hasattr(step_log, \"tool_calls\") and step_log.tool_calls is not None:\n",
    "            first_tool_call = step_log.tool_calls[0]\n",
    "            used_code = first_tool_call.name == \"python_interpreter\"\n",
    "            parent_id = f\"call_{len(step_log.tool_calls)}\"\n",
    "\n",
    "            # Tool call becomes the parent message with timing info\n",
    "            # First we will handle arguments based on type\n",
    "            args = first_tool_call.arguments\n",
    "            if isinstance(args, dict):\n",
    "                content = str(args.get(\"answer\", str(args)))\n",
    "            else:\n",
    "                content = str(args).strip()\n",
    "\n",
    "            if used_code:\n",
    "                # Clean up the content by removing any end code tags\n",
    "                content = re.sub(r\"```.*?\\n\", \"\", content)  # Remove existing code blocks\n",
    "                content = re.sub(r\"\\s*<end_code>\\s*\", \"\", content)  # Remove end_code tags\n",
    "                content = content.strip()\n",
    "                if not content.startswith(\"```python\"):\n",
    "                    content = f\"```python\\n{content}\\n```\"\n",
    "\n",
    "            parent_message_tool = gr.ChatMessage(\n",
    "                role=\"assistant\",\n",
    "                content=content,\n",
    "                metadata={\n",
    "                    \"title\": f\"🛠️ Used tool {first_tool_call.name}\",\n",
    "                    \"id\": parent_id,\n",
    "                    \"status\": \"pending\",\n",
    "                },\n",
    "            )\n",
    "            yield parent_message_tool\n",
    "\n",
    "            # Nesting execution logs under the tool call if they exist\n",
    "            if hasattr(step_log, \"observations\") and (\n",
    "                step_log.observations is not None and step_log.observations.strip()\n",
    "            ):  # Only yield execution logs if there's actual content\n",
    "                log_content = step_log.observations.strip()\n",
    "                if log_content:\n",
    "                    log_content = re.sub(r\"^Execution logs:\\s*\", \"\", log_content)\n",
    "                    yield gr.ChatMessage(\n",
    "                        role=\"assistant\",\n",
    "                        content=f\"{log_content}\",\n",
    "                        metadata={\"title\": \"📝 Execution Logs\", \"parent_id\": parent_id, \"status\": \"done\"},\n",
    "                    )\n",
    "\n",
    "            # Nesting any errors under the tool call\n",
    "            if hasattr(step_log, \"error\") and step_log.error is not None:\n",
    "                yield gr.ChatMessage(\n",
    "                    role=\"assistant\",\n",
    "                    content=str(step_log.error),\n",
    "                    metadata={\"title\": \"💥 Error\", \"parent_id\": parent_id, \"status\": \"done\"},\n",
    "                )\n",
    "\n",
    "            # Update parent message metadata to done status without yielding a new message\n",
    "            parent_message_tool.metadata[\"status\"] = \"done\"\n",
    "\n",
    "        # Handle standalone errors but not from tool calls\n",
    "        elif hasattr(step_log, \"error\") and step_log.error is not None:\n",
    "            yield gr.ChatMessage(role=\"assistant\", content=str(step_log.error), metadata={\"title\": \"💥 Error\"})\n",
    "\n",
    "        # Calculate duration and token information\n",
    "        step_footnote = f\"{step_number}\"\n",
    "        if hasattr(step_log, \"input_token_count\") and hasattr(step_log, \"output_token_count\"):\n",
    "            token_str = (\n",
    "                f\" | Input-tokens:{step_log.input_token_count:,} | Output-tokens:{step_log.output_token_count:,}\"\n",
    "            )\n",
    "            step_footnote += token_str\n",
    "        if hasattr(step_log, \"duration\"):\n",
    "            step_duration = f\" | Duration: {round(float(step_log.duration), 2)}\" if step_log.duration else None\n",
    "            step_footnote += step_duration\n",
    "        step_footnote = f\"\"\"<span style=\"color: #bbbbc2; font-size: 12px;\">{step_footnote}</span> \"\"\"\n",
    "        yield gr.ChatMessage(role=\"assistant\", content=f\"{step_footnote}\")\n",
    "        yield gr.ChatMessage(role=\"assistant\", content=\"-----\")\n",
    "\n",
    "\n",
    "def stream_to_gradio(\n",
    "    agent,\n",
    "    task: str,\n",
    "    reset_agent_memory: bool = False,\n",
    "    additional_args: Optional[dict] = None,\n",
    "):\n",
    "    \"\"\"Runs an agent with the given task and streams the messages from the agent as gradio ChatMessages.\"\"\"\n",
    "    if not _is_package_available(\"gradio\"):\n",
    "        raise ModuleNotFoundError(\n",
    "            \"Please install 'gradio' extra to use the GradioUI: `pip install 'smolagents[gradio]'`\"\n",
    "        )\n",
    "    import gradio as gr\n",
    "\n",
    "    total_input_tokens = 0\n",
    "    total_output_tokens = 0\n",
    "\n",
    "    for step_log in agent.run(task, stream=True, reset=reset_agent_memory, additional_args=additional_args):\n",
    "        # Track tokens if model provides them\n",
    "        if hasattr(agent.model, \"last_input_token_count\"):\n",
    "            total_input_tokens += agent.model.last_input_token_count\n",
    "            total_output_tokens += agent.model.last_output_token_count\n",
    "            if isinstance(step_log, ActionStep):\n",
    "                step_log.input_token_count = agent.model.last_input_token_count\n",
    "                step_log.output_token_count = agent.model.last_output_token_count\n",
    "\n",
    "        for message in pull_messages_from_step(\n",
    "            step_log,\n",
    "        ):\n",
    "            yield message\n",
    "\n",
    "    final_answer = step_log  # Last log is the run's final_answer\n",
    "    final_answer = handle_agent_output_types(final_answer)\n",
    "\n",
    "    if isinstance(final_answer, AgentText):\n",
    "        yield gr.ChatMessage(\n",
    "            role=\"assistant\",\n",
    "            content=f\"**Final answer:**\\n{final_answer.to_string()}\\n\",\n",
    "        )\n",
    "    elif isinstance(final_answer, AgentImage):\n",
    "        yield gr.ChatMessage(\n",
    "            role=\"assistant\",\n",
    "            content={\"path\": final_answer.to_string(), \"mime_type\": \"image/png\"},\n",
    "        )\n",
    "    elif isinstance(final_answer, AgentAudio):\n",
    "        yield gr.ChatMessage(\n",
    "            role=\"assistant\",\n",
    "            content={\"path\": final_answer.to_string(), \"mime_type\": \"audio/wav\"},\n",
    "        )\n",
    "    else:\n",
    "        yield gr.ChatMessage(role=\"assistant\", content=f\"**Final answer:** {str(final_answer)}\")\n",
    "\n",
    "\n",
    "class GradioUI:\n",
    "    \"\"\"A one-line interface to launch your agent in Gradio\"\"\"\n",
    "\n",
    "    def __init__(self, agent: MultiStepAgent, file_upload_folder: str | None = None):\n",
    "        if not _is_package_available(\"gradio\"):\n",
    "            raise ModuleNotFoundError(\n",
    "                \"Please install 'gradio' extra to use the GradioUI: `pip install 'smolagents[gradio]'`\"\n",
    "            )\n",
    "        self.agent = agent\n",
    "        self.file_upload_folder = file_upload_folder\n",
    "        if self.file_upload_folder is not None:\n",
    "            if not os.path.exists(file_upload_folder):\n",
    "                os.mkdir(file_upload_folder)\n",
    "\n",
    "    def interact_with_agent(self, prompt, messages):\n",
    "        import gradio as gr\n",
    "\n",
    "        messages.append(gr.ChatMessage(role=\"user\", content=prompt))\n",
    "        yield messages\n",
    "        for msg in stream_to_gradio(self.agent, task=prompt, reset_agent_memory=False):\n",
    "            messages.append(msg)\n",
    "            yield messages\n",
    "        yield messages\n",
    "\n",
    "    def upload_file(\n",
    "        self,\n",
    "        file,\n",
    "        file_uploads_log,\n",
    "        allowed_file_types=[\n",
    "            \"application/pdf\",\n",
    "            \"application/vnd.openxmlformats-officedocument.wordprocessingml.document\",\n",
    "            \"text/plain\",\n",
    "        ],\n",
    "    ):\n",
    "        \"\"\"\n",
    "        Handle file uploads, default allowed types are .pdf, .docx, and .txt\n",
    "        \"\"\"\n",
    "        import gradio as gr\n",
    "\n",
    "        if file is None:\n",
    "            return gr.Textbox(\"No file uploaded\", visible=True), file_uploads_log\n",
    "\n",
    "        try:\n",
    "            mime_type, _ = mimetypes.guess_type(file.name)\n",
    "        except Exception as e:\n",
    "            return gr.Textbox(f\"Error: {e}\", visible=True), file_uploads_log\n",
    "\n",
    "        if mime_type not in allowed_file_types:\n",
    "            return gr.Textbox(\"File type disallowed\", visible=True), file_uploads_log\n",
    "\n",
    "        # Sanitize file name\n",
    "        original_name = os.path.basename(file.name)\n",
    "        sanitized_name = re.sub(\n",
    "            r\"[^\\w\\-.]\", \"_\", original_name\n",
    "        )  # Replace any non-alphanumeric, non-dash, or non-dot characters with underscores\n",
    "\n",
    "        type_to_ext = {}\n",
    "        for ext, t in mimetypes.types_map.items():\n",
    "            if t not in type_to_ext:\n",
    "                type_to_ext[t] = ext\n",
    "\n",
    "        # Ensure the extension correlates to the mime type\n",
    "        sanitized_name = sanitized_name.split(\".\")[:-1]\n",
    "        sanitized_name.append(\"\" + type_to_ext[mime_type])\n",
    "        sanitized_name = \"\".join(sanitized_name)\n",
    "\n",
    "        # Save the uploaded file to the specified folder\n",
    "        file_path = os.path.join(self.file_upload_folder, os.path.basename(sanitized_name))\n",
    "        shutil.copy(file.name, file_path)\n",
    "\n",
    "        return gr.Textbox(f\"File uploaded: {file_path}\", visible=True), file_uploads_log + [file_path]\n",
    "\n",
    "    def log_user_message(self, text_input, file_uploads_log):\n",
    "        return (\n",
    "            text_input\n",
    "            + (\n",
    "                f\"\\nYou have been provided with these files, which might be helpful or not: {file_uploads_log}\"\n",
    "                if len(file_uploads_log) > 0\n",
    "                else \"\"\n",
    "            ),\n",
    "            \"\",\n",
    "        )\n",
    "\n",
    "    def launch(self, **kwargs):\n",
    "        import gradio as gr\n",
    "\n",
    "        with gr.Blocks(fill_height=True) as demo:\n",
    "            stored_messages = gr.State([])\n",
    "            file_uploads_log = gr.State([])\n",
    "            chatbot = gr.Chatbot(\n",
    "                label=\"Agent\",\n",
    "                type=\"messages\",\n",
    "                avatar_images=(\n",
    "                    None,\n",
    "                    \"https://huggingface.co/datasets/agents-course/course-images/resolve/main/en/communication/Alfred.png\",\n",
    "                ),\n",
    "                resizeable=True,\n",
    "                scale=1,\n",
    "            )\n",
    "            # If an upload folder is provided, enable the upload feature\n",
    "            if self.file_upload_folder is not None:\n",
    "                upload_file = gr.File(label=\"Upload a file\")\n",
    "                upload_status = gr.Textbox(label=\"Upload Status\", interactive=False, visible=False)\n",
    "                upload_file.change(\n",
    "                    self.upload_file,\n",
    "                    [upload_file, file_uploads_log],\n",
    "                    [upload_status, file_uploads_log],\n",
    "                )\n",
    "            text_input = gr.Textbox(lines=1, label=\"Chat Message\")\n",
    "            text_input.submit(\n",
    "                self.log_user_message,\n",
    "                [text_input, file_uploads_log],\n",
    "                [stored_messages, text_input],\n",
    "            ).then(self.interact_with_agent, [stored_messages, chatbot], [chatbot])\n",
    "\n",
    "        demo.launch(debug=True, share=True, **kwargs)\n",
    "\n",
    "\n",
    "__all__ = [\"stream_to_gradio\", \"GradioUI\"]"
   ]
  },
  {
   "cell_type": "code",
   "execution_count": null,
   "id": "100774a8",
   "metadata": {},
   "outputs": [
    {
     "name": "stderr",
     "output_type": "stream",
     "text": [
      "/tmp/ipykernel_334898/1092651122.py:252: DeprecationWarning: The 'resizeable' parameter is deprecated and will be removed in a future version. Please use the 'resizable' (note the corrected spelling) parameter instead.\n",
      "  chatbot = gr.Chatbot(\n"
     ]
    },
    {
     "name": "stdout",
     "output_type": "stream",
     "text": [
      "* Running on local URL:  http://127.0.0.1:7860\n",
      "* Running on public URL: https://2778a93ede81eecf88.gradio.live\n",
      "\n",
      "This share link expires in 1 week. For free permanent hosting and GPU upgrades, run `gradio deploy` from the terminal in the working directory to deploy to Hugging Face Spaces (https://huggingface.co/spaces)\n"
     ]
    },
    {
     "data": {
      "text/html": [
       "<div><iframe src=\"https://2778a93ede81eecf88.gradio.live\" width=\"100%\" height=\"500\" allow=\"autoplay; camera; microphone; clipboard-read; clipboard-write;\" frameborder=\"0\" allowfullscreen></iframe></div>"
      ],
      "text/plain": [
       "<IPython.core.display.HTML object>"
      ]
     },
     "metadata": {},
     "output_type": "display_data"
    },
    {
     "data": {
      "text/html": [
       "<pre style=\"white-space:pre;overflow-x:auto;line-height:normal;font-family:Menlo,'DejaVu Sans Mono',consolas,'Courier New',monospace\"><span style=\"color: #d4b702; text-decoration-color: #d4b702\">╭──────────────────────────────────────────────────── </span><span style=\"color: #d4b702; text-decoration-color: #d4b702; font-weight: bold\">New run</span><span style=\"color: #d4b702; text-decoration-color: #d4b702\"> ────────────────────────────────────────────────────╮</span>\n",
       "<span style=\"color: #d4b702; text-decoration-color: #d4b702\">│</span>                                                                                                                 <span style=\"color: #d4b702; text-decoration-color: #d4b702\">│</span>\n",
       "<span style=\"color: #d4b702; text-decoration-color: #d4b702\">│</span> <span style=\"font-weight: bold\">What is the time now</span>                                                                                            <span style=\"color: #d4b702; text-decoration-color: #d4b702\">│</span>\n",
       "<span style=\"color: #d4b702; text-decoration-color: #d4b702\">│</span>                                                                                                                 <span style=\"color: #d4b702; text-decoration-color: #d4b702\">│</span>\n",
       "<span style=\"color: #d4b702; text-decoration-color: #d4b702\">╰─ TransformersModel - meta-llama/Llama-3.2-1B-Instruct ──────────────────────────────────────────────────────────╯</span>\n",
       "</pre>\n"
      ],
      "text/plain": [
       "\u001b[38;2;212;183;2m╭─\u001b[0m\u001b[38;2;212;183;2m───────────────────────────────────────────────────\u001b[0m\u001b[38;2;212;183;2m \u001b[0m\u001b[1;38;2;212;183;2mNew run\u001b[0m\u001b[38;2;212;183;2m \u001b[0m\u001b[38;2;212;183;2m───────────────────────────────────────────────────\u001b[0m\u001b[38;2;212;183;2m─╮\u001b[0m\n",
       "\u001b[38;2;212;183;2m│\u001b[0m                                                                                                                 \u001b[38;2;212;183;2m│\u001b[0m\n",
       "\u001b[38;2;212;183;2m│\u001b[0m \u001b[1mWhat is the time now\u001b[0m                                                                                            \u001b[38;2;212;183;2m│\u001b[0m\n",
       "\u001b[38;2;212;183;2m│\u001b[0m                                                                                                                 \u001b[38;2;212;183;2m│\u001b[0m\n",
       "\u001b[38;2;212;183;2m╰─\u001b[0m\u001b[38;2;212;183;2m TransformersModel - meta-llama/Llama-3.2-1B-Instruct \u001b[0m\u001b[38;2;212;183;2m─────────────────────────────────────────────────────────\u001b[0m\u001b[38;2;212;183;2m─╯\u001b[0m\n"
      ]
     },
     "metadata": {},
     "output_type": "display_data"
    },
    {
     "data": {
      "text/html": [
       "<pre style=\"white-space:pre;overflow-x:auto;line-height:normal;font-family:Menlo,'DejaVu Sans Mono',consolas,'Courier New',monospace\"><span style=\"color: #d4b702; text-decoration-color: #d4b702\">━━━━━━━━━━━━━━━━━━━━━━━━━━━━━━━━━━━━━━━━━━━━━━━━━━━━━ </span><span style=\"font-weight: bold\">Step </span><span style=\"color: #008080; text-decoration-color: #008080; font-weight: bold\">1</span><span style=\"color: #d4b702; text-decoration-color: #d4b702\"> ━━━━━━━━━━━━━━━━━━━━━━━━━━━━━━━━━━━━━━━━━━━━━━━━━━━━━━</span>\n",
       "</pre>\n"
      ],
      "text/plain": [
       "\u001b[38;2;212;183;2m━━━━━━━━━━━━━━━━━━━━━━━━━━━━━━━━━━━━━━━━━━━━━━━━━━━━━ \u001b[0m\u001b[1mStep \u001b[0m\u001b[1;36m1\u001b[0m\u001b[38;2;212;183;2m ━━━━━━━━━━━━━━━━━━━━━━━━━━━━━━━━━━━━━━━━━━━━━━━━━━━━━━\u001b[0m\n"
      ]
     },
     "metadata": {},
     "output_type": "display_data"
    },
    {
     "name": "stderr",
     "output_type": "stream",
     "text": [
      "Setting `pad_token_id` to `eos_token_id`:128001 for open-end generation.\n"
     ]
    },
    {
     "name": "stdout",
     "output_type": "stream",
     "text": [
      "Keyboard interruption in main thread... closing server.\n",
      "Killing tunnel 127.0.0.1:7860 <> https://2778a93ede81eecf88.gradio.live\n"
     ]
    },
    {
     "data": {
      "text/html": [
       "<pre style=\"white-space:pre;overflow-x:auto;line-height:normal;font-family:Menlo,'DejaVu Sans Mono',consolas,'Courier New',monospace\"> ─ <span style=\"font-weight: bold\">Executing parsed code:</span> ──────────────────────────────────────────────────────────────────────────────────────── \n",
       "  <span style=\"color: #ff4689; text-decoration-color: #ff4689; background-color: #272822\">import</span><span style=\"color: #f8f8f2; text-decoration-color: #f8f8f2; background-color: #272822\"> datetime</span><span style=\"background-color: #272822\">                                                                                                </span>  \n",
       "  <span style=\"color: #f8f8f2; text-decoration-color: #f8f8f2; background-color: #272822\">now </span><span style=\"color: #ff4689; text-decoration-color: #ff4689; background-color: #272822\">=</span><span style=\"color: #f8f8f2; text-decoration-color: #f8f8f2; background-color: #272822\"> datetime</span><span style=\"color: #ff4689; text-decoration-color: #ff4689; background-color: #272822\">.</span><span style=\"color: #f8f8f2; text-decoration-color: #f8f8f2; background-color: #272822\">datetime</span><span style=\"color: #ff4689; text-decoration-color: #ff4689; background-color: #272822\">.</span><span style=\"color: #f8f8f2; text-decoration-color: #f8f8f2; background-color: #272822\">now()</span><span style=\"background-color: #272822\">                                                                                  </span>  \n",
       "  <span style=\"color: #f8f8f2; text-decoration-color: #f8f8f2; background-color: #272822\">print(</span><span style=\"color: #e6db74; text-decoration-color: #e6db74; background-color: #272822\">f\"Current time is: {</span><span style=\"color: #f8f8f2; text-decoration-color: #f8f8f2; background-color: #272822\">now</span><span style=\"color: #ff4689; text-decoration-color: #ff4689; background-color: #272822\">.</span><span style=\"color: #f8f8f2; text-decoration-color: #f8f8f2; background-color: #272822\">strftime(</span><span style=\"color: #e6db74; text-decoration-color: #e6db74; background-color: #272822\">'%Y-%m-%d %H:%M:%S'</span><span style=\"color: #f8f8f2; text-decoration-color: #f8f8f2; background-color: #272822\">)</span><span style=\"color: #e6db74; text-decoration-color: #e6db74; background-color: #272822\">}\"</span><span style=\"color: #f8f8f2; text-decoration-color: #f8f8f2; background-color: #272822\">)</span><span style=\"background-color: #272822\">                                                 </span>  \n",
       " ───────────────────────────────────────────────────────────────────────────────────────────────────────────────── \n",
       "</pre>\n"
      ],
      "text/plain": [
       " ─ \u001b[1mExecuting parsed code:\u001b[0m ──────────────────────────────────────────────────────────────────────────────────────── \n",
       "  \u001b[38;2;255;70;137;48;2;39;40;34mimport\u001b[0m\u001b[38;2;248;248;242;48;2;39;40;34m \u001b[0m\u001b[38;2;248;248;242;48;2;39;40;34mdatetime\u001b[0m\u001b[48;2;39;40;34m                                                                                                \u001b[0m  \n",
       "  \u001b[38;2;248;248;242;48;2;39;40;34mnow\u001b[0m\u001b[38;2;248;248;242;48;2;39;40;34m \u001b[0m\u001b[38;2;255;70;137;48;2;39;40;34m=\u001b[0m\u001b[38;2;248;248;242;48;2;39;40;34m \u001b[0m\u001b[38;2;248;248;242;48;2;39;40;34mdatetime\u001b[0m\u001b[38;2;255;70;137;48;2;39;40;34m.\u001b[0m\u001b[38;2;248;248;242;48;2;39;40;34mdatetime\u001b[0m\u001b[38;2;255;70;137;48;2;39;40;34m.\u001b[0m\u001b[38;2;248;248;242;48;2;39;40;34mnow\u001b[0m\u001b[38;2;248;248;242;48;2;39;40;34m(\u001b[0m\u001b[38;2;248;248;242;48;2;39;40;34m)\u001b[0m\u001b[48;2;39;40;34m                                                                                  \u001b[0m  \n",
       "  \u001b[38;2;248;248;242;48;2;39;40;34mprint\u001b[0m\u001b[38;2;248;248;242;48;2;39;40;34m(\u001b[0m\u001b[38;2;230;219;116;48;2;39;40;34mf\u001b[0m\u001b[38;2;230;219;116;48;2;39;40;34m\"\u001b[0m\u001b[38;2;230;219;116;48;2;39;40;34mCurrent time is: \u001b[0m\u001b[38;2;230;219;116;48;2;39;40;34m{\u001b[0m\u001b[38;2;248;248;242;48;2;39;40;34mnow\u001b[0m\u001b[38;2;255;70;137;48;2;39;40;34m.\u001b[0m\u001b[38;2;248;248;242;48;2;39;40;34mstrftime\u001b[0m\u001b[38;2;248;248;242;48;2;39;40;34m(\u001b[0m\u001b[38;2;230;219;116;48;2;39;40;34m'\u001b[0m\u001b[38;2;230;219;116;48;2;39;40;34m%\u001b[0m\u001b[38;2;230;219;116;48;2;39;40;34mY-\u001b[0m\u001b[38;2;230;219;116;48;2;39;40;34m%\u001b[0m\u001b[38;2;230;219;116;48;2;39;40;34mm-\u001b[0m\u001b[38;2;230;219;116;48;2;39;40;34m%d\u001b[0m\u001b[38;2;230;219;116;48;2;39;40;34m \u001b[0m\u001b[38;2;230;219;116;48;2;39;40;34m%\u001b[0m\u001b[38;2;230;219;116;48;2;39;40;34mH:\u001b[0m\u001b[38;2;230;219;116;48;2;39;40;34m%\u001b[0m\u001b[38;2;230;219;116;48;2;39;40;34mM:\u001b[0m\u001b[38;2;230;219;116;48;2;39;40;34m%\u001b[0m\u001b[38;2;230;219;116;48;2;39;40;34mS\u001b[0m\u001b[38;2;230;219;116;48;2;39;40;34m'\u001b[0m\u001b[38;2;248;248;242;48;2;39;40;34m)\u001b[0m\u001b[38;2;230;219;116;48;2;39;40;34m}\u001b[0m\u001b[38;2;230;219;116;48;2;39;40;34m\"\u001b[0m\u001b[38;2;248;248;242;48;2;39;40;34m)\u001b[0m\u001b[48;2;39;40;34m                                                 \u001b[0m  \n",
       " ───────────────────────────────────────────────────────────────────────────────────────────────────────────────── \n"
      ]
     },
     "metadata": {},
     "output_type": "display_data"
    },
    {
     "data": {
      "text/html": [
       "<pre style=\"white-space:pre;overflow-x:auto;line-height:normal;font-family:Menlo,'DejaVu Sans Mono',consolas,'Courier New',monospace\"><span style=\"font-weight: bold\">Execution logs:</span>\n",
       "Current time is: 2025-05-22 05:58:10\n",
       "\n",
       "Out: None\n",
       "</pre>\n"
      ],
      "text/plain": [
       "\u001b[1mExecution logs:\u001b[0m\n",
       "Current time is: 2025-05-22 05:58:10\n",
       "\n",
       "Out: None\n"
      ]
     },
     "metadata": {},
     "output_type": "display_data"
    },
    {
     "data": {
      "text/html": [
       "<pre style=\"white-space:pre;overflow-x:auto;line-height:normal;font-family:Menlo,'DejaVu Sans Mono',consolas,'Courier New',monospace\"><span style=\"color: #7f7f7f; text-decoration-color: #7f7f7f\">[Step 1: Duration 34.39 seconds| Input tokens: 2,114 | Output tokens: 63]</span>\n",
       "</pre>\n"
      ],
      "text/plain": [
       "\u001b[2m[Step 1: Duration 34.39 seconds| Input tokens: 2,114 | Output tokens: 63]\u001b[0m\n"
      ]
     },
     "metadata": {},
     "output_type": "display_data"
    }
   ],
   "source": [
    "GradioUI(agent).launch()"
   ]
  },
  {
   "cell_type": "code",
   "execution_count": null,
   "id": "4f3e6886",
   "metadata": {},
   "outputs": [],
   "source": []
  }
 ],
 "metadata": {
  "kernelspec": {
   "display_name": "Python 3",
   "language": "python",
   "name": "python3"
  },
  "language_info": {
   "codemirror_mode": {
    "name": "ipython",
    "version": 3
   },
   "file_extension": ".py",
   "mimetype": "text/x-python",
   "name": "python",
   "nbconvert_exporter": "python",
   "pygments_lexer": "ipython3",
   "version": "3.10.16"
  }
 },
 "nbformat": 4,
 "nbformat_minor": 5
}
